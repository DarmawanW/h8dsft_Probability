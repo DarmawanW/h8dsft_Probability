{
 "cells": [
  {
   "cell_type": "code",
   "execution_count": 3,
   "source": [
    "%matplotlib inline\r\n",
    "import random\r\n",
    "\r\n",
    "# Pembuatan list dengan elemen yang mewakili kepala atau ekor\r\n",
    "heads_tails = [0,0]\r\n",
    "\r\n",
    "# simulasi 50000 percobaan\r\n",
    "trials = 50000\r\n",
    "trial = 0\r\n",
    "while trial < trials:\r\n",
    "    trial = trial + 1\r\n",
    "    # Assign value random berupa 0 dan 1 untuk kepala atau ekor\r\n",
    "    toss = random.randint(0,1)\r\n",
    "    # Penambahan hasil dari pelemparan koin kedalam list \r\n",
    "    heads_tails[toss] = heads_tails[toss] + 1\r\n",
    "\r\n",
    "print (heads_tails)"
   ],
   "outputs": [
    {
     "output_type": "stream",
     "name": "stdout",
     "text": [
      "[25007, 24993]\n"
     ]
    }
   ],
   "metadata": {}
  },
  {
   "cell_type": "code",
   "execution_count": 4,
   "source": [
    "#Menghitung probability dari Kepala dan Ekor \r\n",
    "prob_head = heads_tails[0]/trials*100\r\n",
    "prob_tails = heads_tails[1]/trials*100\r\n",
    "print (\"Probability of Heads are : \",prob_head,\"%\")\r\n",
    "print (\"Probability of Tails are : \",prob_tails,\"%\")"
   ],
   "outputs": [
    {
     "output_type": "stream",
     "name": "stdout",
     "text": [
      "Probability of Heads are :  50.014 %\n",
      "Probability of Tails are :  49.986000000000004 %\n"
     ]
    }
   ],
   "metadata": {}
  }
 ],
 "metadata": {
  "orig_nbformat": 4,
  "language_info": {
   "name": "python",
   "version": "3.8.8",
   "mimetype": "text/x-python",
   "codemirror_mode": {
    "name": "ipython",
    "version": 3
   },
   "pygments_lexer": "ipython3",
   "nbconvert_exporter": "python",
   "file_extension": ".py"
  },
  "kernelspec": {
   "name": "python3",
   "display_name": "Python 3.8.8 64-bit ('base': conda)"
  },
  "interpreter": {
   "hash": "6f5a3333282cc3cade2967a8d6ad94d5be3d1b19105904835c796cab9a1eb63b"
  }
 },
 "nbformat": 4,
 "nbformat_minor": 2
}